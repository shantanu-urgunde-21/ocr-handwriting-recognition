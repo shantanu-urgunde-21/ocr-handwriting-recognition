{
 "cells": [
  {
   "cell_type": "code",
   "execution_count": 11,
   "id": "382be6fc",
   "metadata": {},
   "outputs": [],
   "source": [
    "import os\n",
    "import torch\n",
    "import torch.nn as nn\n",
    "from torchvision import transforms\n",
    "from PIL import Image\n"
   ]
  },
  {
   "cell_type": "code",
   "execution_count": 12,
   "id": "c83c0aeb",
   "metadata": {},
   "outputs": [],
   "source": [
    "# Vocabulary and Mappings\n",
    "VOCAB = \"\"\" !\"#&'()*+,-./0123456789:;?ABCDEFGHIJKLMNOPQRSTUVWXYZabcdefghijklmnopqrstuvwxyz\"\"\"\n",
    "CTC_BLANK = 0\n",
    "int_to_char = {i + 1: char for i, char in enumerate(VOCAB)}\n",
    "\n",
    "# Image Transformations\n",
    "IMG_HEIGHT = 64\n",
    "IMG_WIDTH = 512\n",
    "inference_transform = transforms.Compose([\n",
    "    transforms.Resize((IMG_HEIGHT, IMG_WIDTH)),\n",
    "    transforms.Grayscale(num_output_channels=1),\n",
    "    transforms.ToTensor(),\n",
    "    transforms.Normalize((0.5,), (0.5,))\n",
    "])\n",
    "\n",
    "# CRNN Model Architecture\n",
    "class CRNN(nn.Module):\n",
    "    def __init__(self, num_chars):\n",
    "        super(CRNN, self).__init__()\n",
    "        self.cnn = nn.Sequential(\n",
    "            nn.Conv2d(1, 32, kernel_size=3, padding=1),\n",
    "            nn.ReLU(inplace=True),\n",
    "            nn.MaxPool2d(kernel_size=2, stride=2),\n",
    "            nn.Conv2d(32, 64, kernel_size=3, padding=1),\n",
    "            nn.ReLU(inplace=True),\n",
    "            nn.MaxPool2d(kernel_size=2, stride=2)\n",
    "        )\n",
    "        self.map_to_seq = nn.Linear(64 * (IMG_HEIGHT // 4), 64)\n",
    "        self.rnn = nn.LSTM(64, 128, num_layers=2, bidirectional=True, dropout=0.25)\n",
    "        self.fc = nn.Linear(256, num_chars)\n",
    "\n",
    "    def forward(self, x):\n",
    "        x = self.cnn(x)\n",
    "        x = x.permute(0, 3, 1, 2)\n",
    "        b, w, c, h = x.size()\n",
    "        x = x.view(b, w, c * h)\n",
    "        x = self.map_to_seq(x)\n",
    "        x = x.permute(1, 0, 2)\n",
    "        x, _ = self.rnn(x)\n",
    "        x = self.fc(x)\n",
    "        x = nn.functional.log_softmax(x, dim=2)\n",
    "        return x\n",
    "\n",
    "# CTC Decoding Function\n",
    "def ctc_decode(log_probs):\n",
    "    preds = log_probs.argmax(dim=2).permute(1, 0)\n",
    "    decoded_texts = []\n",
    "    for pred in preds:\n",
    "        s = ''.join([int_to_char.get(c.item(), '') for c in pred if c != CTC_BLANK])\n",
    "        dedup_s = \"\"\n",
    "        if s:\n",
    "            dedup_s = s[0]\n",
    "            for char in s[1:]:\n",
    "                if char != dedup_s[-1]:\n",
    "                    dedup_s += char\n",
    "        decoded_texts.append(dedup_s)\n",
    "    return decoded_texts\n",
    "\n"
   ]
  },
  {
   "cell_type": "code",
   "execution_count": 13,
   "id": "84590128",
   "metadata": {},
   "outputs": [],
   "source": [
    "MODEL_PATH = \"handwriting_recognizer_best.pth\"\n",
    "# !!! IMPORTANT: CHANGE THIS TO THE PATH OF YOUR IMAGE !!!\n",
    "IMAGE_PATH = r\"D:\\programming\\python files(not package)\\ocrtake2\\file1\\try_this_for_prediction.png\"\n"
   ]
  },
  {
   "cell_type": "code",
   "execution_count": 14,
   "id": "8bcf94cc",
   "metadata": {},
   "outputs": [
    {
     "name": "stdout",
     "output_type": "stream",
     "text": [
      "Model loaded successfully.\n",
      "\n",
      "Image: 'try_this_for_prediction.png'\n",
      "Predicted Text: try thisfor prediction .\n",
      "An error occurred: name 'plt' is not defined\n"
     ]
    }
   ],
   "source": [
    "device = torch.device(\"cuda\" if torch.cuda.is_available() else \"cpu\")\n",
    "\n",
    "# --- Load Model ---\n",
    "if not os.path.exists(MODEL_PATH):\n",
    "    print(f\"Error: Model file not found at '{MODEL_PATH}'\")\n",
    "else:\n",
    "    model = CRNN(num_chars=len(VOCAB) + 1).to(device)\n",
    "    model.load_state_dict(torch.load(MODEL_PATH, map_location=device))\n",
    "    model.eval()\n",
    "    print(\"Model loaded successfully.\")\n",
    "\n",
    "    # --- Load and Predict Image ---\n",
    "    if not os.path.exists(IMAGE_PATH):\n",
    "        print(f\"Error: Image file not found at '{IMAGE_PATH}'\")\n",
    "    else:\n",
    "        try:\n",
    "            image = Image.open(IMAGE_PATH).convert(\"RGB\")\n",
    "            image_tensor = inference_transform(image).unsqueeze(0).to(device)\n",
    "\n",
    "            with torch.no_grad():\n",
    "                log_probs = model(image_tensor)\n",
    "\n",
    "            predicted_text = ctc_decode(log_probs)[0]\n",
    "\n",
    "            print(f\"\\nImage: '{os.path.basename(IMAGE_PATH)}'\")\n",
    "            print(f\"Predicted Text: {predicted_text}\")\n",
    "\n",
    "            # Optional: Display the image\n",
    "            plt.imshow(image)\n",
    "            plt.title(f\"Prediction: {predicted_text}\")\n",
    "            plt.axis(\"off\")\n",
    "            plt.show()\n",
    "\n",
    "        except Exception as e:\n",
    "            print(f\"An error occurred: {e}\")\n"
   ]
  }
 ],
 "metadata": {
  "kernelspec": {
   "display_name": ".venv",
   "language": "python",
   "name": "python3"
  },
  "language_info": {
   "codemirror_mode": {
    "name": "ipython",
    "version": 3
   },
   "file_extension": ".py",
   "mimetype": "text/x-python",
   "name": "python",
   "nbconvert_exporter": "python",
   "pygments_lexer": "ipython3",
   "version": "3.12.10"
  }
 },
 "nbformat": 4,
 "nbformat_minor": 5
}
